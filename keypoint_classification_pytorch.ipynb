{
 "cells": [
  {
   "cell_type": "code",
   "execution_count": 1,
   "metadata": {},
   "outputs": [],
   "source": [
    "import numpy as np\n",
    "from sklearn.model_selection import train_test_split\n",
    "from torch import nn\n",
    "import torch\n",
    "RANDOM_SEED = 42"
   ]
  },
  {
   "cell_type": "code",
   "execution_count": 2,
   "metadata": {},
   "outputs": [],
   "source": [
    "dataset = 'model/keypoint_classifier/keypoint.csv'\n",
    "model_save_path = 'model/keypoint_classifier/keypoint_classifier.hdf5'\n",
    "tflite_save_path = 'model/keypoint_classifier/keypoint_classifier.tflite'\n",
    "\n",
    "NUM_CLASSES = 4"
   ]
  },
  {
   "cell_type": "code",
   "execution_count": 34,
   "metadata": {},
   "outputs": [],
   "source": [
    "X_dataset = np.loadtxt(dataset, delimiter=',', dtype='float32', usecols=list(range(1, (21 * 2) + 1)))\n",
    "y_dataset = np.loadtxt(dataset, delimiter=',', dtype='int32', usecols=(0))\n",
    "X_train, X_test, y_train, y_test = train_test_split(X_dataset, y_dataset, train_size=0.75, random_state=RANDOM_SEED, shuffle=True)"
   ]
  },
  {
   "cell_type": "code",
   "execution_count": 35,
   "metadata": {},
   "outputs": [],
   "source": [
    "X_train, y_train, X_test, y_test = map(torch.tensor, (X_train, y_train, X_test, y_test))"
   ]
  },
  {
   "cell_type": "code",
   "execution_count": 36,
   "metadata": {},
   "outputs": [],
   "source": [
    "X_train = X_train.float()\n",
    "y_train = y_train.long()"
   ]
  },
  {
   "cell_type": "code",
   "execution_count": 37,
   "metadata": {},
   "outputs": [],
   "source": [
    "device = torch.device('cuda' if torch.cuda.is_available() else 'cpu') \n",
    "\n",
    "\n",
    "X_train=X_train.to(device)\n",
    "y_train=y_train.to(device)\n",
    "X_test=X_test.to(device)\n",
    "y_test=y_test.to(device)"
   ]
  },
  {
   "cell_type": "code",
   "execution_count": 38,
   "metadata": {},
   "outputs": [
    {
     "name": "stdout",
     "output_type": "stream",
     "text": [
      "torch.Size([3590, 42]) torch.Size([3590])\n",
      "torch.Size([1197, 42]) torch.Size([1197])\n"
     ]
    }
   ],
   "source": [
    "print(X_train.shape, y_train.shape)\n",
    "print(X_test.shape, y_test.shape)\n"
   ]
  },
  {
   "cell_type": "markdown",
   "metadata": {},
   "source": [
    "# Model building"
   ]
  },
  {
   "cell_type": "code",
   "execution_count": 39,
   "metadata": {},
   "outputs": [],
   "source": [
    "\n",
    "class FeedForward(nn.Module): # Almost everything in PyTorch inherits from nn.Module\n",
    "\n",
    "  def __init__(self, input_shape: int, hidden_units: int, output_shape: int ):\n",
    "    super().__init__()\n",
    "    self.block_1 = nn.Sequential(\n",
    "      nn.Dropout(0.20),\n",
    "      nn.Linear(in_features = input_shape,\n",
    "                out_features = hidden_units\n",
    "                                ),\n",
    "      nn.ReLU(),\n",
    "    )\n",
    "\n",
    "    self.block_2 = nn.Sequential(\n",
    "                                  nn.Dropout(0.40),\n",
    "                                  nn.Linear(in_features = hidden_units,\n",
    "                                            out_features = hidden_units\n",
    "                                                              ),\n",
    "                                  nn.ReLU(),\n",
    "                                  nn.Linear(in_features = hidden_units,\n",
    "                                            out_features = output_shape\n",
    "                                                              ),\n",
    "    )\n",
    "\n",
    "  \n",
    "    \n",
    "\n",
    "# Forward method to define computation in the model\n",
    "  def forward(self, x: torch.Tensor)->torch.Tensor: # \"x\" is the imput data\n",
    "    return  self.block_2(self.block_1(x))\n",
    "\n",
    "\n",
    "  def predict(self, X):\n",
    "    Y_pred = self.forward(X)\n",
    "    return Y_pred\n",
    "torch.manual_seed(RANDOM_SEED)\n",
    "model_1 = FeedForward(input_shape=42, hidden_units=40, output_shape=NUM_CLASSES).to(device)"
   ]
  },
  {
   "cell_type": "code",
   "execution_count": 40,
   "metadata": {},
   "outputs": [],
   "source": [
    "# Loss and optimizer\n",
    "loss_fn = nn.CrossEntropyLoss()\n",
    "optimizer = torch.optim.Adam(params = model_1.parameters(), lr = 0.01)  "
   ]
  },
  {
   "cell_type": "code",
   "execution_count": 41,
   "metadata": {},
   "outputs": [
    {
     "data": {
      "text/plain": [
       "0.15877516567707062"
      ]
     },
     "execution_count": 41,
     "metadata": {},
     "output_type": "execute_result"
    }
   ],
   "source": [
    "def fit_v2(x, y, model, opt, loss_fn, epochs = 1000):\n",
    "  \n",
    "  for epoch in range(epochs):\n",
    "    loss = loss_fn(model(x), y)\n",
    "    loss.backward()\n",
    "    opt.step()\n",
    "    opt.zero_grad()\n",
    "    \n",
    "  return loss.item()\n",
    "\n",
    "fit_v2(X_train, y_train, model_1, optimizer, loss_fn)"
   ]
  },
  {
   "cell_type": "code",
   "execution_count": 42,
   "metadata": {},
   "outputs": [],
   "source": [
    "def accuracy(y_hat, y):\n",
    "  pred = torch.argmax(y_hat, dim=1)\n",
    "  return (pred == y).float().mean()"
   ]
  },
  {
   "cell_type": "code",
   "execution_count": 43,
   "metadata": {},
   "outputs": [],
   "source": [
    "Y_pred_train = model_1.predict(X_train)\n",
    "#Y_pred_train = np.argmax(Y_pred_train,1)\n",
    "Y_pred_val = model_1.predict(X_test)\n",
    "#Y_pred_val = np.argmax(Y_pred_val,1)\n",
    "\n",
    "accuracy_train = accuracy(Y_pred_train, y_train)\n",
    "accuracy_val = accuracy(Y_pred_val, y_test)"
   ]
  },
  {
   "cell_type": "code",
   "execution_count": 44,
   "metadata": {},
   "outputs": [
    {
     "name": "stdout",
     "output_type": "stream",
     "text": [
      "tensor(0.9446)\n",
      "tensor(0.9524)\n"
     ]
    }
   ],
   "source": [
    "print(accuracy_train)\n",
    "print(accuracy_val)"
   ]
  },
  {
   "cell_type": "code",
   "execution_count": null,
   "metadata": {},
   "outputs": [],
   "source": []
  }
 ],
 "metadata": {
  "kernelspec": {
   "display_name": "Python 3.10.7 64-bit",
   "language": "python",
   "name": "python3"
  },
  "language_info": {
   "codemirror_mode": {
    "name": "ipython",
    "version": 3
   },
   "file_extension": ".py",
   "mimetype": "text/x-python",
   "name": "python",
   "nbconvert_exporter": "python",
   "pygments_lexer": "ipython3",
   "version": "3.10.7"
  },
  "orig_nbformat": 4,
  "vscode": {
   "interpreter": {
    "hash": "1e1df00a394935ec324c6ff031bf5c5623f263ddcd646e8dc20dfce6e25020db"
   }
  }
 },
 "nbformat": 4,
 "nbformat_minor": 2
}
